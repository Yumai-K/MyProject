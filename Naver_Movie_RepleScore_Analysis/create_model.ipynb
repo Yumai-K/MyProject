{
 "cells": [
  {
   "cell_type": "markdown",
   "metadata": {},
   "source": [
    "# < 신경망 모델 생성 및 모델 저장 >"
   ]
  },
  {
   "cell_type": "code",
   "execution_count": 1,
   "metadata": {},
   "outputs": [],
   "source": [
    "import tensorflow\n",
    "from tensorflow.keras.models import Sequential\n",
    "from tensorflow.keras.layers import Dense, Embedding, GlobalAveragePooling1D, Dropout\n",
    "from tensorflow.keras.preprocessing.sequence import pad_sequences\n",
    "# keras.layers.Dropout(rate, noise_shape=None, seed=None)\n",
    "\n",
    "import numpy as np\n",
    "import pandas as pd\n",
    "import operator\n",
    "import re\n",
    "import matplotlib.pyplot as plt"
   ]
  },
  {
   "cell_type": "code",
   "execution_count": 2,
   "metadata": {},
   "outputs": [],
   "source": [
    "patt = re.compile('[가-힣]+') # 한글 추출 정규표현식"
   ]
  },
  {
   "cell_type": "markdown",
   "metadata": {},
   "source": [
    "### 1. vocab_size, word2idx, idx2word 정의"
   ]
  },
  {
   "cell_type": "code",
   "execution_count": 3,
   "metadata": {},
   "outputs": [],
   "source": [
    "# word2idx 정의 하기\n",
    "vocab_size = 10000\n",
    "df = pd.read_csv('word2idx.csv')\n",
    "df.columns = ['word', 'idx']\n",
    "word2idx = dict()\n",
    "word2idx['<PAD>'] = 0       # InputData의 길이를 맞추기위한 패딩\n",
    "word2idx['<START>'] = 1     # text의 시작을 의미\n",
    "word2idx['<UNUSED>'] = 3    #      \n",
    "for i,j in zip(df.word, df.idx):\n",
    "    if int(j) > (vocab_size-4) :\n",
    "        word2idx[i] = 2     # vocab_size를 초과하는 단어는 모두 2로 처리 <UNK>\n",
    "    else:\n",
    "        word2idx[i] = int(j)+3\n",
    "\n",
    "#idx2word \n",
    "idx2word = dict()\n",
    "for k,v in word2idx.items():\n",
    "    idx2word[2] = '<UNK>'\n",
    "    if v != 2:\n",
    "        idx2word[v] = k\n",
    "\n",
    "data = pd.read_csv('test_set.csv')"
   ]
  },
  {
   "cell_type": "code",
   "execution_count": 4,
   "metadata": {},
   "outputs": [],
   "source": [
    "x_list = []\n",
    "y_list = []"
   ]
  },
  {
   "cell_type": "markdown",
   "metadata": {},
   "source": [
    "### 2. Train Set 정의"
   ]
  },
  {
   "cell_type": "code",
   "execution_count": 5,
   "metadata": {},
   "outputs": [],
   "source": [
    "# x_train, y_train 정의하기\n",
    "for i,j in zip(data.contents, data.score):\n",
    "    li = []\n",
    "    i = str(i)\n",
    "    i = re.findall(patt,i)\n",
    "    li.append(1)\n",
    "    for x in i:\n",
    "        li.append(word2idx[x])\n",
    "    x_list.append(li)\n",
    "    y_list.append(j)\n",
    "#     #긍정 부정 체킹하기\n",
    "#     if int(j) > 7:\n",
    "#         y_list.append(1)\n",
    "#     else:\n",
    "#         y_list.append(0)\n",
    "\n",
    "x_train = np.array(x_list)\n",
    "y_train = np.array(y_list)\n",
    "\n",
    "x_train = x_train.reshape(len(x_train)) #x_train 데이터 reshape"
   ]
  },
  {
   "cell_type": "code",
   "execution_count": 6,
   "metadata": {},
   "outputs": [
    {
     "name": "stdout",
     "output_type": "stream",
     "text": [
      "(250000,)\n",
      "(250000,)\n",
      "[10 10  9 ... 10 10 10]\n"
     ]
    }
   ],
   "source": [
    "print(x_train.shape)\n",
    "print(y_train.shape)\n",
    "print(y_train)"
   ]
  },
  {
   "cell_type": "code",
   "execution_count": 7,
   "metadata": {},
   "outputs": [],
   "source": [
    "x_train = pad_sequences(x_train, value=word2idx['<PAD>'], padding='post', maxlen=64) # 입력 데이터 패딩"
   ]
  },
  {
   "cell_type": "markdown",
   "metadata": {},
   "source": [
    "### 3. 신경망 모델 생성 및 학습"
   ]
  },
  {
   "cell_type": "code",
   "execution_count": 8,
   "metadata": {},
   "outputs": [
    {
     "name": "stderr",
     "output_type": "stream",
     "text": [
      "WARNING: Logging before flag parsing goes to stderr.\n",
      "W0922 16:29:00.651498  4612 deprecation.py:506] From C:\\Users\\S340\\Anaconda3\\lib\\site-packages\\tensorflow\\python\\keras\\initializers.py:119: calling RandomUniform.__init__ (from tensorflow.python.ops.init_ops) with dtype is deprecated and will be removed in a future version.\n",
      "Instructions for updating:\n",
      "Call initializer instance with the dtype argument instead of passing it to the constructor\n",
      "W0922 16:29:00.740921  4612 deprecation.py:506] From C:\\Users\\S340\\Anaconda3\\lib\\site-packages\\tensorflow\\python\\ops\\init_ops.py:1251: calling VarianceScaling.__init__ (from tensorflow.python.ops.init_ops) with dtype is deprecated and will be removed in a future version.\n",
      "Instructions for updating:\n",
      "Call initializer instance with the dtype argument instead of passing it to the constructor\n"
     ]
    }
   ],
   "source": [
    "#create model\n",
    "model = Sequential()\n",
    "model.add(Embedding(vocab_size, 128))\n",
    "model.add(Dropout(0.5, noise_shape=None, seed=None))\n",
    "model.add(Dense(128, activation='relu'))\n",
    "model.add(Dense(128, activation='relu'))\n",
    "model.add(Dense(128, activation='relu'))\n",
    "model.add(GlobalAveragePooling1D())\n",
    "model.add(Dense(128, activation='relu'))\n",
    "model.add(Dense(128, activation='relu'))\n",
    "model.add(Dense(128, activation='relu'))\n",
    "model.add(Dense(11, activation='sigmoid'))"
   ]
  },
  {
   "cell_type": "code",
   "execution_count": 9,
   "metadata": {},
   "outputs": [
    {
     "name": "stdout",
     "output_type": "stream",
     "text": [
      "Model: \"sequential\"\n",
      "_________________________________________________________________\n",
      "Layer (type)                 Output Shape              Param #   \n",
      "=================================================================\n",
      "embedding (Embedding)        (None, None, 128)         1280000   \n",
      "_________________________________________________________________\n",
      "dropout (Dropout)            (None, None, 128)         0         \n",
      "_________________________________________________________________\n",
      "dense (Dense)                (None, None, 128)         16512     \n",
      "_________________________________________________________________\n",
      "dense_1 (Dense)              (None, None, 128)         16512     \n",
      "_________________________________________________________________\n",
      "dense_2 (Dense)              (None, None, 128)         16512     \n",
      "_________________________________________________________________\n",
      "global_average_pooling1d (Gl (None, 128)               0         \n",
      "_________________________________________________________________\n",
      "dense_3 (Dense)              (None, 128)               16512     \n",
      "_________________________________________________________________\n",
      "dense_4 (Dense)              (None, 128)               16512     \n",
      "_________________________________________________________________\n",
      "dense_5 (Dense)              (None, 128)               16512     \n",
      "_________________________________________________________________\n",
      "dense_6 (Dense)              (None, 11)                1419      \n",
      "=================================================================\n",
      "Total params: 1,380,491\n",
      "Trainable params: 1,380,491\n",
      "Non-trainable params: 0\n",
      "_________________________________________________________________\n"
     ]
    }
   ],
   "source": [
    "model.summary() \n",
    "# input shape = (vocap_size, maxlen= 256)\n",
    "# outputshape = (batch_size, maxlen, 128)"
   ]
  },
  {
   "cell_type": "code",
   "execution_count": 10,
   "metadata": {},
   "outputs": [],
   "source": [
    "Adam = tensorflow.keras.optimizers.Adam # cost function\n",
    "\n",
    "model.compile(optimizer = Adam(lr=0.0005), loss='sparse_categorical_crossentropy', metrics=['accuracy'])"
   ]
  },
  {
   "cell_type": "code",
   "execution_count": 11,
   "metadata": {},
   "outputs": [
    {
     "name": "stdout",
     "output_type": "stream",
     "text": [
      "Train on 167499 samples, validate on 82501 samples\n"
     ]
    },
    {
     "name": "stderr",
     "output_type": "stream",
     "text": [
      "W0922 16:29:01.411008  4612 deprecation.py:323] From C:\\Users\\S340\\Anaconda3\\lib\\site-packages\\tensorflow\\python\\ops\\math_grad.py:1250: add_dispatch_support.<locals>.wrapper (from tensorflow.python.ops.array_ops) is deprecated and will be removed in a future version.\n",
      "Instructions for updating:\n",
      "Use tf.where in 2.0, which has the same broadcast rule as np.where\n"
     ]
    },
    {
     "name": "stdout",
     "output_type": "stream",
     "text": [
      "Epoch 1/10\n",
      "167499/167499 [==============================] - 272s 2ms/sample - loss: 1.3221 - acc: 0.6029 - val_loss: 1.5538 - val_acc: 0.4901\n",
      "Epoch 2/10\n",
      "167499/167499 [==============================] - 226s 1ms/sample - loss: 1.1943 - acc: 0.6231 - val_loss: 1.4952 - val_acc: 0.5027\n",
      "Epoch 3/10\n",
      "167499/167499 [==============================] - 220s 1ms/sample - loss: 1.1647 - acc: 0.6289 - val_loss: 1.4960 - val_acc: 0.5027\n",
      "Epoch 4/10\n",
      "167499/167499 [==============================] - 198s 1ms/sample - loss: 1.1521 - acc: 0.6315 - val_loss: 1.5096 - val_acc: 0.5021\n",
      "Epoch 5/10\n",
      "167499/167499 [==============================] - 212s 1ms/sample - loss: 1.1437 - acc: 0.6319 - val_loss: 1.5025 - val_acc: 0.5021\n",
      "Epoch 6/10\n",
      "167499/167499 [==============================] - 217s 1ms/sample - loss: 1.1384 - acc: 0.6333 - val_loss: 1.5023 - val_acc: 0.5036\n",
      "Epoch 7/10\n",
      "167499/167499 [==============================] - 216s 1ms/sample - loss: 1.1343 - acc: 0.6333 - val_loss: 1.4986 - val_acc: 0.5019\n",
      "Epoch 8/10\n",
      "167499/167499 [==============================] - 224s 1ms/sample - loss: 1.1304 - acc: 0.6345 - val_loss: 1.5184 - val_acc: 0.5023\n",
      "Epoch 9/10\n",
      "167499/167499 [==============================] - 339s 2ms/sample - loss: 1.1277 - acc: 0.6350 - val_loss: 1.5080 - val_acc: 0.5019\n",
      "Epoch 10/10\n",
      "167499/167499 [==============================] - 310s 2ms/sample - loss: 1.1251 - acc: 0.6357 - val_loss: 1.5197 - val_acc: 0.4966\n"
     ]
    }
   ],
   "source": [
    "history = model.fit(x_train, y_train, epochs=10, validation_split=0.33)"
   ]
  },
  {
   "cell_type": "markdown",
   "metadata": {},
   "source": [
    "### 4. 신경망 시각화"
   ]
  },
  {
   "cell_type": "code",
   "execution_count": 12,
   "metadata": {},
   "outputs": [
    {
     "data": {
      "image/png": "[encoded data removed]",
      "text/plain": [
       "<Figure size 432x288 with 1 Axes>"
      ]
     },
     "metadata": {
      "needs_background": "light"
     },
     "output_type": "display_data"
    },
    {
     "data": {
      "image/png": "[encoded data removed]",
      "text/plain": [
       "<Figure size 432x288 with 1 Axes>"
      ]
     },
     "metadata": {
      "needs_background": "light"
     },
     "output_type": "display_data"
    }
   ],
   "source": [
    "# summarize history for accuracy\n",
    "plt.plot(history.history['acc'])\n",
    "plt.plot(history.history['val_acc'])\n",
    "plt.title('model accuracy')\n",
    "plt.ylabel('accuracy')\n",
    "plt.xlabel('epoch')\n",
    "plt.legend(['train', 'test'], loc='upper left')\n",
    "plt.show()\n",
    "# summarize history for loss\n",
    "plt.plot(history.history['loss'])\n",
    "plt.plot(history.history['val_loss'])\n",
    "plt.title('model loss')\n",
    "plt.ylabel('loss')\n",
    "plt.xlabel('epoch')\n",
    "plt.legend(['train', 'test'], loc='upper left')\n",
    "plt.show()"
   ]
  },
  {
   "cell_type": "markdown",
   "metadata": {},
   "source": [
    "### 5. 모델 저장 및 평가"
   ]
  },
  {
   "cell_type": "code",
   "execution_count": 13,
   "metadata": {},
   "outputs": [
    {
     "name": "stdout",
     "output_type": "stream",
     "text": [
      "250000/250000 [==============================] - 68s 270us/sample - loss: 1.2408 - acc: 0.5931\n"
     ]
    },
    {
     "data": {
      "text/plain": [
       "[1.2407767069988251, 0.593064]"
      ]
     },
     "execution_count": 13,
     "metadata": {},
     "output_type": "execute_result"
    }
   ],
   "source": [
    "model.save('test_model.h5')\n",
    "model.evaluate(x_train, y_train)"
   ]
  },
  {
   "cell_type": "markdown",
   "metadata": {},
   "source": []
  }
 ],
 "metadata": {
  "kernelspec": {
   "display_name": "Python 3",
   "language": "python",
   "name": "python3"
  },
  "language_info": {
   "codemirror_mode": {
    "name": "ipython",
    "version": 3
   },
   "file_extension": ".py",
   "mimetype": "text/x-python",
   "name": "python",
   "nbconvert_exporter": "python",
   "pygments_lexer": "ipython3",
   "version": "3.7.3"
  }
 },
 "nbformat": 4,
 "nbformat_minor": 2
}
