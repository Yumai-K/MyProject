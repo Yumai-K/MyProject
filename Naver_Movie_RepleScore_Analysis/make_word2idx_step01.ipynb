{
 "cells": [
  {
   "cell_type": "markdown",
   "metadata": {},
   "source": [
    "# word2idx 만들기 step1\n",
    " - 전체 댓글 내용에 대하여 단어(띄어쓰기) 별로 구분하여 List 생성\n",
    " - 각 단어별 빈도수를 체크하고 빈도수 순서에 따라 정렬\n"
   ]
  },
  {
   "cell_type": "code",
   "execution_count": 1,
   "metadata": {},
   "outputs": [],
   "source": [
    "import pandas as pd\n",
    "import operator\n",
    "import re"
   ]
  },
  {
   "cell_type": "code",
   "execution_count": 2,
   "metadata": {},
   "outputs": [],
   "source": [
    "df = pd.read_csv('test_set.csv')\n",
    "patt = re.compile('[가-힣]+')"
   ]
  },
  {
   "cell_type": "code",
   "execution_count": 3,
   "metadata": {},
   "outputs": [],
   "source": [
    "data = list()      # list 초기 선언\n",
    "data_dict = dict() # dict 초기 선언"
   ]
  },
  {
   "cell_type": "code",
   "execution_count": 4,
   "metadata": {},
   "outputs": [
    {
     "name": "stdout",
     "output_type": "stream",
     "text": [
      "data len :  85613\n"
     ]
    }
   ],
   "source": [
    "# 콘텐츠의 모든 단어를 List 로 저장\n",
    "for i in df.contents:\n",
    "    i = str(i)\n",
    "    if str(i)=='':\n",
    "        i = str(i);\n",
    "    else:\n",
    "        i = re.findall(patt, i)\n",
    "    data += i\n",
    "print(\"data len : \", len(data))  # List 길이 확인"
   ]
  },
  {
   "cell_type": "code",
   "execution_count": 5,
   "metadata": {},
   "outputs": [
    {
     "name": "stdout",
     "output_type": "stream",
     "text": [
      "dict len :  36685\n"
     ]
    }
   ],
   "source": [
    "# List의 값들을 가져와 빈도수 체크후 Dict 형태로 저장\n",
    "for i in data:\n",
    "    if data_dict.__contains__(i):\n",
    "        data_dict[i] += 1;\n",
    "    else:\n",
    "        data_dict[i] = 1;\n",
    "print(\"dict len : \", len(data_dict)) # dict 길이 확인"
   ]
  },
  {
   "cell_type": "code",
   "execution_count": 6,
   "metadata": {},
   "outputs": [
    {
     "name": "stdout",
     "output_type": "stream",
     "text": [
      "36685\n",
      "<class 'list'>\n"
     ]
    }
   ],
   "source": [
    "# 생성된 dict 빈도수 기준으로 내림차순 정렬\n",
    "dict_sorted = sorted(data_dict.items(), key=operator.itemgetter(1), reverse=True)\n",
    "print(len(dict_sorted))\n",
    "print(type(dict_sorted)) # 정렬된 후 List형태로 저장되어있음"
   ]
  },
  {
   "cell_type": "code",
   "execution_count": 7,
   "metadata": {},
   "outputs": [],
   "source": [
    "test = pd.DataFrame(dict_sorted)\n",
    "test.to_csv('word2idx.csv')"
   ]
  },
  {
   "cell_type": "code",
   "execution_count": null,
   "metadata": {},
   "outputs": [],
   "source": []
  }
 ],
 "metadata": {
  "kernelspec": {
   "display_name": "Python 3",
   "language": "python",
   "name": "python3"
  },
  "language_info": {
   "codemirror_mode": {
    "name": "ipython",
    "version": 3
   },
   "file_extension": ".py",
   "mimetype": "text/x-python",
   "name": "python",
   "nbconvert_exporter": "python",
   "pygments_lexer": "ipython3",
   "version": "3.7.3"
  }
 },
 "nbformat": 4,
 "nbformat_minor": 2
}
