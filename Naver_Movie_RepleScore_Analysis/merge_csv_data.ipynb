{
 "cells": [
  {
   "cell_type": "code",
   "execution_count": 1,
   "metadata": {},
   "outputs": [],
   "source": [
    "import pandas as pd\n",
    "import os"
   ]
  },
  {
   "cell_type": "code",
   "execution_count": 2,
   "metadata": {},
   "outputs": [
    {
     "name": "stdout",
     "output_type": "stream",
     "text": [
      "병합 완료\n"
     ]
    }
   ],
   "source": [
    "path = './data_reple'\n",
    "file_list = os.listdir(path)\n",
    "\n",
    "# last_data = pd.read_csv()\n",
    "final_data = pd.read_csv('data_reple/'+file_list[-1])\n",
    "\n",
    "for i in range(1, len(file_list)):\n",
    "    df = pd.read_csv('data_reple/'+(file_list[i]))\n",
    "    final_data = pd.concat([merge_data,df], sort=False)\n",
    "    \n",
    "print(\"병합 완료\")\n"
   ]
  },
  {
   "cell_type": "code",
   "execution_count": 3,
   "metadata": {},
   "outputs": [],
   "source": [
    "final_data.to_csv('data_reple/final_data.csv', encoding='utf-8', index=False)"
   ]
  },
  {
   "cell_type": "code",
   "execution_count": null,
   "metadata": {},
   "outputs": [],
   "source": []
  }
 ],
 "metadata": {
  "kernelspec": {
   "display_name": "Python 3",
   "language": "python",
   "name": "python3"
  },
  "language_info": {
   "codemirror_mode": {
    "name": "ipython",
    "version": 3
   },
   "file_extension": ".py",
   "mimetype": "text/x-python",
   "name": "python",
   "nbconvert_exporter": "python",
   "pygments_lexer": "ipython3",
   "version": "3.7.3"
  }
 },
 "nbformat": 4,
 "nbformat_minor": 2
}
