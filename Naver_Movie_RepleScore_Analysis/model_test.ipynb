{
 "cells": [
  {
   "cell_type": "code",
   "execution_count": 1,
   "metadata": {},
   "outputs": [],
   "source": [
    "from tensorflow.keras.models import load_model\n",
    "import pandas as pd\n",
    "import numpy as np\n",
    "import re"
   ]
  },
  {
   "cell_type": "code",
   "execution_count": 2,
   "metadata": {},
   "outputs": [
    {
     "name": "stderr",
     "output_type": "stream",
     "text": [
      "WARNING: Logging before flag parsing goes to stderr.\n",
      "W0922 17:31:27.083163  1660 deprecation.py:506] From C:\\Users\\S340\\Anaconda3\\lib\\site-packages\\tensorflow\\python\\keras\\initializers.py:119: calling RandomUniform.__init__ (from tensorflow.python.ops.init_ops) with dtype is deprecated and will be removed in a future version.\n",
      "Instructions for updating:\n",
      "Call initializer instance with the dtype argument instead of passing it to the constructor\n",
      "W0922 17:31:27.129097  1660 deprecation.py:506] From C:\\Users\\S340\\Anaconda3\\lib\\site-packages\\tensorflow\\python\\ops\\init_ops.py:97: calling GlorotUniform.__init__ (from tensorflow.python.ops.init_ops) with dtype is deprecated and will be removed in a future version.\n",
      "Instructions for updating:\n",
      "Call initializer instance with the dtype argument instead of passing it to the constructor\n",
      "W0922 17:31:27.131035  1660 deprecation.py:506] From C:\\Users\\S340\\Anaconda3\\lib\\site-packages\\tensorflow\\python\\ops\\init_ops.py:1251: calling VarianceScaling.__init__ (from tensorflow.python.ops.init_ops) with dtype is deprecated and will be removed in a future version.\n",
      "Instructions for updating:\n",
      "Call initializer instance with the dtype argument instead of passing it to the constructor\n",
      "W0922 17:31:27.131035  1660 deprecation.py:506] From C:\\Users\\S340\\Anaconda3\\lib\\site-packages\\tensorflow\\python\\ops\\init_ops.py:97: calling Zeros.__init__ (from tensorflow.python.ops.init_ops) with dtype is deprecated and will be removed in a future version.\n",
      "Instructions for updating:\n",
      "Call initializer instance with the dtype argument instead of passing it to the constructor\n",
      "W0922 17:31:27.546959  1660 deprecation.py:323] From C:\\Users\\S340\\Anaconda3\\lib\\site-packages\\tensorflow\\python\\ops\\math_grad.py:1250: add_dispatch_support.<locals>.wrapper (from tensorflow.python.ops.array_ops) is deprecated and will be removed in a future version.\n",
      "Instructions for updating:\n",
      "Use tf.where in 2.0, which has the same broadcast rule as np.where\n"
     ]
    }
   ],
   "source": [
    "patt = re.compile('[가-힣]+')\n",
    "model = load_model('test_model.h5')"
   ]
  },
  {
   "cell_type": "code",
   "execution_count": 3,
   "metadata": {},
   "outputs": [],
   "source": [
    "# word2idx 정의 하기\n",
    "vocab_size = 10000\n",
    "df = pd.read_csv('word2idx.csv')\n",
    "df.columns = ['word', 'idx']\n",
    "word2idx = dict()\n",
    "word2idx['<PAD>'] = 0       # InputData의 길이를 맞추기위한 패딩\n",
    "word2idx['<START>'] = 1     # text의 시작을 의미\n",
    "word2idx['<UNUSED>'] = 3    #      \n",
    "for i,j in zip(df.word, df.idx):\n",
    "    if int(j) > (vocab_size-4) :\n",
    "        word2idx[i] = 2     # vocab_size를 초과하는 단어는 모두 2로 처리 <UNK>\n",
    "    else:\n",
    "        word2idx[i] = int(j)+3\n",
    "\n",
    "#idx2word \n",
    "idx2word = dict()\n",
    "for k,v in word2idx.items():\n",
    "    idx2word[2] = '<UNK>'\n",
    "    if v != 2:\n",
    "        idx2word[v] = k"
   ]
  },
  {
   "cell_type": "code",
   "execution_count": 4,
   "metadata": {},
   "outputs": [
    {
     "name": "stdout",
     "output_type": "stream",
     "text": [
      "영화 리뷰를 입력하세요 : 할말이 웃음밖에 없어요.. 그냥 진짜 너무웃기니까 시원하게 웃다가실 분들에게 추천 조정석 보러갔다가 의외로 빵빵터지고 나옴.. 천만 각인듯\n"
     ]
    }
   ],
   "source": [
    "input_contents = input('영화 리뷰를 입력하세요 : ')"
   ]
  },
  {
   "cell_type": "code",
   "execution_count": 5,
   "metadata": {},
   "outputs": [],
   "source": [
    "word_li = re.findall(patt, input_contents)\n",
    "code_li = list()\n",
    "for i in word_li:\n",
    "    code_li.append(1)\n",
    "    if word2idx.__contains__(i):\n",
    "        code_li.append(word2idx[i])\n",
    "    else:\n",
    "        code_li.append(2)\n",
    "\n",
    "while len(code_li) < 64:\n",
    "    code_li.append(0)"
   ]
  },
  {
   "cell_type": "code",
   "execution_count": 6,
   "metadata": {},
   "outputs": [],
   "source": [
    "code_li = np.array(code_li)"
   ]
  },
  {
   "cell_type": "code",
   "execution_count": 7,
   "metadata": {},
   "outputs": [
    {
     "name": "stdout",
     "output_type": "stream",
     "text": [
      "Predict score :  10\n"
     ]
    }
   ],
   "source": [
    "out = model.predict(code_li.reshape(1,64))\n",
    "print(\"Predict score : \", out.argmax())"
   ]
  },
  {
   "cell_type": "code",
   "execution_count": null,
   "metadata": {},
   "outputs": [],
   "source": []
  }
 ],
 "metadata": {
  "kernelspec": {
   "display_name": "Python 3",
   "language": "python",
   "name": "python3"
  },
  "language_info": {
   "codemirror_mode": {
    "name": "ipython",
    "version": 3
   },
   "file_extension": ".py",
   "mimetype": "text/x-python",
   "name": "python",
   "nbconvert_exporter": "python",
   "pygments_lexer": "ipython3",
   "version": "3.7.3"
  }
 },
 "nbformat": 4,
 "nbformat_minor": 2
}
