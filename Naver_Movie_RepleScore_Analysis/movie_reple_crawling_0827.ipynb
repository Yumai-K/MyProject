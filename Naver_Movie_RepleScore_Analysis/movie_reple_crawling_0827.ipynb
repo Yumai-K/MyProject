{
 "cells": [
  {
   "cell_type": "markdown",
   "metadata": {},
   "source": [
    "# 현재 상영작 reple 가져오기 : 1개 페이지 test"
   ]
  },
  {
   "cell_type": "code",
   "execution_count": 1,
   "metadata": {},
   "outputs": [],
   "source": [
    "import urllib.request\n",
    "from bs4 import BeautifulSoup"
   ]
  },
  {
   "cell_type": "code",
   "execution_count": 2,
   "metadata": {},
   "outputs": [],
   "source": [
    "baseUrl = 'https://movie.naver.com/movie/point/af/list.nhn'\n",
    "url = baseUrl\n",
    "html = urllib.request.urlopen(url).read()\n",
    "soup = BeautifulSoup(html, 'html.parser')"
   ]
  },
  {
   "cell_type": "code",
   "execution_count": 5,
   "metadata": {},
   "outputs": [],
   "source": [
    "#title = soup.find_all(class_='list_netizen')   # 테이블 자체를 크롤링 해봄\n",
    "#title = soup.find_all(class_='report')   #안에 있는 report값 / 평점 score가 안나온다\n",
    "#title = soup.find_all(class_='list_netizen') # class 값이 ''인 결과를 가져온다\n",
    "point = soup.select(\n",
    "    'tbody > tr > td.point'\n",
    ")\n",
    "movie = soup.select(\n",
    "    'tbody > tr > td.title '\n",
    ")\n",
    "content = soup.select(\n",
    "    'tbody > tr > td.title'\n",
    ")"
   ]
  },
  {
   "cell_type": "code",
   "execution_count": null,
   "metadata": {},
   "outputs": [],
   "source": [
    "for i, j in zip(movie, point):\n",
    "    print(j.text)\n",
    "    print(i.text)"
   ]
  }
 ],
 "metadata": {
  "kernelspec": {
   "display_name": "Python 3",
   "language": "python",
   "name": "python3"
  },
  "language_info": {
   "codemirror_mode": {
    "name": "ipython",
    "version": 3
   },
   "file_extension": ".py",
   "mimetype": "text/x-python",
   "name": "python",
   "nbconvert_exporter": "python",
   "pygments_lexer": "ipython3",
   "version": "3.7.3"
  }
 },
 "nbformat": 4,
 "nbformat_minor": 2
}
