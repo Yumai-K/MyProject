{
 "cells": [
  {
   "cell_type": "markdown",
   "metadata": {},
   "source": [
    "# 특정영화 1개 리플 가져오기 Test Example"
   ]
  },
  {
   "cell_type": "code",
   "execution_count": 1,
   "metadata": {},
   "outputs": [],
   "source": [
    "import urllib.request\n",
    "from bs4 import BeautifulSoup"
   ]
  },
  {
   "cell_type": "code",
   "execution_count": null,
   "metadata": {},
   "outputs": [],
   "source": [
    "baseUrl='https://movie.naver.com/movie/bi/mi/pointWriteFormList.nhn?code=180351&type=after&isActualPointWriteExecute=false&isMileageSubscriptionAlready=false&isMileageSubscriptionReject=false&page=1'\n",
    "for i in range(1,10):\n",
    "    plusUrl = str(i)\n",
    "    url = baseUrl+plusUrl\n",
    "    html = urllib.request.urlopen(url).read()\n",
    "    soup = BeautifulSoup(html, 'html.parser')\n",
    "    score = soup.select(\n",
    "        'body > div > div > div.score_result > ul > li > div.star_score'\n",
    "    )\n",
    "    content = soup.select(\n",
    "        'body > div > div > div.score_result > ul > li > div.score_reple > p'\n",
    "    )\n",
    "    \n",
    "    for i,j in zip(score,content):\n",
    "        print(i.text)\n",
    "        print(j.text)"
   ]
  }
 ],
 "metadata": {
  "kernelspec": {
   "display_name": "Python 3",
   "language": "python",
   "name": "python3"
  },
  "language_info": {
   "codemirror_mode": {
    "name": "ipython",
    "version": 3
   },
   "file_extension": ".py",
   "mimetype": "text/x-python",
   "name": "python",
   "nbconvert_exporter": "python",
   "pygments_lexer": "ipython3",
   "version": "3.7.3"
  }
 },
 "nbformat": 4,
 "nbformat_minor": 2
}
