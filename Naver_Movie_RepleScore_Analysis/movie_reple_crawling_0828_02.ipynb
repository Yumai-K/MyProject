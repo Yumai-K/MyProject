{
 "cells": [
  {
   "cell_type": "markdown",
   "metadata": {},
   "source": [
    "# 현재 상영작 모든 영화 Reple 가져오기\n",
    " - 동적 크롤링 활용\n",
    " - 문제점1. : 1001페이지 이상 접근 불가\n",
    " - 문제점2. : 시간 소요 매우 큼"
   ]
  },
  {
   "cell_type": "code",
   "execution_count": 1,
   "metadata": {},
   "outputs": [],
   "source": [
    "import urllib.request\n",
    "import re\n",
    "import pandas as pd\n",
    "from bs4 import BeautifulSoup"
   ]
  },
  {
   "cell_type": "code",
   "execution_count": 2,
   "metadata": {},
   "outputs": [],
   "source": [
    "Url = 'https://movie.naver.com/movie/point/af/list.nhn?&page=1'\n",
    "html = urllib.request.urlopen(Url).read()\n",
    "soup = BeautifulSoup(html, 'html.parser')"
   ]
  },
  {
   "cell_type": "code",
   "execution_count": 3,
   "metadata": {},
   "outputs": [],
   "source": [
    "total = soup.find('strong',{'class':'c_88 fs_11'})\n",
    "total = int(total.text)\n",
    "page_num = int(total / 10000)\n",
    "data = []"
   ]
  },
  {
   "cell_type": "code",
   "execution_count": null,
   "metadata": {},
   "outputs": [],
   "source": [
    "for roof01 in range(1, page_num):\n",
    "    baseUrl = 'https://movie.naver.com/movie/point/af/list.nhn?&page='+str(roof01)\n",
    "    \n",
    "    html = urllib.request.urlopen(baseUrl).read()\n",
    "    soup = BeautifulSoup(html, 'html.parser')\n",
    "\n",
    "    point = soup.find_all('td',{'class':'point'})\n",
    "    content = soup.find_all('td',{'class':'title'})\n",
    "    date = soup.find_all(text=re.compile('^[0-9][0-9]\\.[0-9][0-9]\\.[0-9][0-9]'))\n",
    "\n",
    "    for i,j,k in zip(point, content,date):\n",
    "        temp = j.text[0:-3]\n",
    "        temp = temp.strip('\\n\\t')\n",
    "        temp = temp.split('\\n')\n",
    "        data.append([i.text,temp[0], temp[1], str(k)])"
   ]
  },
  {
   "cell_type": "code",
   "execution_count": 10,
   "metadata": {},
   "outputs": [],
   "source": [
    "# print(data)\n",
    "df = pd.DataFrame(data)\n",
    "df.to_csv('test_data.csv', encoding='utf=8')"
   ]
  },
  {
   "cell_type": "code",
   "execution_count": null,
   "metadata": {},
   "outputs": [],
   "source": []
  }
 ],
 "metadata": {
  "kernelspec": {
   "display_name": "Python 3",
   "language": "python",
   "name": "python3"
  },
  "language_info": {
   "codemirror_mode": {
    "name": "ipython",
    "version": 3
   },
   "file_extension": ".py",
   "mimetype": "text/x-python",
   "name": "python",
   "nbconvert_exporter": "python",
   "pygments_lexer": "ipython3",
   "version": "3.7.3"
  }
 },
 "nbformat": 4,
 "nbformat_minor": 2
}
