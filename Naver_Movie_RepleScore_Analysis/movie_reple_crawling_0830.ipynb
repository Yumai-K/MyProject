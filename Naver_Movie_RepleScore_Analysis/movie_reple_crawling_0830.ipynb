{
 "cells": [
  {
   "cell_type": "markdown",
   "metadata": {},
   "source": [
    "# 영화 평점 랭킹에서 크롤링하기\n",
    " - 결과 : 실패\n",
    " - 문제점1 : 시간소요 오래걸림\n",
    " - 문제점2 : 상위 2000개 영화라는 한계가 있음"
   ]
  },
  {
   "cell_type": "code",
   "execution_count": 2,
   "metadata": {},
   "outputs": [],
   "source": [
    "import urllib.request\n",
    "import re\n",
    "import pandas as pd\n",
    "from bs4 import BeautifulSoup"
   ]
  },
  {
   "cell_type": "code",
   "execution_count": 3,
   "metadata": {},
   "outputs": [],
   "source": [
    "baseUrl = 'https://movie.naver.com/movie/bi/mi/pointWriteFormList.nhn?{}&type=after&isActualPointWriteExecute=false&isMileageSubscriptionAlready=false&isMileageSubscriptionReject=false&page={}'\n",
    "Url = 'https://movie.naver.com/movie/sdb/rank/rmovie.nhn?sel=pnt&date=20190829&page=40'\n",
    "baseHtml = urllib.request.urlopen(Url).read()\n",
    "baseSoup = BeautifulSoup(baseHtml, 'html.parser')\n",
    "code = baseSoup.select('div.tit5 > a')"
   ]
  },
  {
   "cell_type": "code",
   "execution_count": null,
   "metadata": {},
   "outputs": [],
   "source": [
    "data = []\n",
    "for roof1 in code:\n",
    "    codeUrl = baseUrl.format(roof1.get('href')[23:],1)\n",
    "    print(codeUrl)\n",
    "    codeHtml = urllib.request.urlopen(codeUrl).read()\n",
    "    codeSoup = BeautifulSoup(codeHtml, 'html.parser')\n",
    "    total_count = codeSoup.select('div.score_total>strong>em')\n",
    "    \n",
    "    if(total_count):\n",
    "        total_count = total_count[0].text\n",
    "        total_count = total_count.replace(',','')\n",
    "        total_count = int(int(total_count)/10)+2\n",
    "        print(total_count)\n",
    "    else:\n",
    "        continue\n",
    "        \n",
    "    for roof2 in range(1,total_count):\n",
    "        pageUrl = baseUrl.format(roof1.get('href')[23:],roof2)\n",
    "        html = urllib.request.urlopen(pageUrl).read()\n",
    "        soup = BeautifulSoup(html, 'html.parser')\n",
    "        \n",
    "        point = soup.select('div.star_score > em')     # body > div > div > div.score_result > ul > li:nth-child(1) > div.star_score > em\n",
    "        content = soup.select('div.score_reple > p')  # body > div > div > div.score_result > ul > li:nth-child(1) > div.score_reple > p\n",
    "        for i,j in zip(point,content):\n",
    "            data.append([i.text, j.text])\n"
   ]
  },
  {
   "cell_type": "code",
   "execution_count": null,
   "metadata": {},
   "outputs": [],
   "source": [
    "df = pd.DataFrame(data)\n",
    "df.to_csv('test_data.csv', encoding='utf=8')    "
   ]
  },
  {
   "cell_type": "code",
   "execution_count": null,
   "metadata": {},
   "outputs": [],
   "source": []
  }
 ],
 "metadata": {
  "kernelspec": {
   "display_name": "Python 3",
   "language": "python",
   "name": "python3"
  },
  "language_info": {
   "codemirror_mode": {
    "name": "ipython",
    "version": 3
   },
   "file_extension": ".py",
   "mimetype": "text/x-python",
   "name": "python",
   "nbconvert_exporter": "python",
   "pygments_lexer": "ipython3",
   "version": "3.7.3"
  }
 },
 "nbformat": 4,
 "nbformat_minor": 2
}
