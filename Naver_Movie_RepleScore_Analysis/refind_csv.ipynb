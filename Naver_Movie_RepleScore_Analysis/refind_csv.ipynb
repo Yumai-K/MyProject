{
 "cells": [
  {
   "cell_type": "markdown",
   "metadata": {},
   "source": [
    "# 데치터 정제하기\n",
    " - 불필요 데이터 삭제 및 컬럼명 설정"
   ]
  },
  {
   "cell_type": "code",
   "execution_count": 1,
   "metadata": {},
   "outputs": [],
   "source": [
    "import pandas as pd"
   ]
  },
  {
   "cell_type": "code",
   "execution_count": 2,
   "metadata": {},
   "outputs": [
    {
     "name": "stdout",
     "output_type": "stream",
     "text": [
      "(12766355, 5)\n",
      "Index(['Unnamed: 0', '0', '1', '2', '3'], dtype='object')\n"
     ]
    }
   ],
   "source": [
    "data = pd.read_csv('./data_reple/merge_data.csv')\n",
    "print(data.shape)\n",
    "print(data.columns)"
   ]
  },
  {
   "cell_type": "code",
   "execution_count": 3,
   "metadata": {},
   "outputs": [
    {
     "name": "stdout",
     "output_type": "stream",
     "text": [
      "    movie                                           contents  score\n",
      "0  브로큰 서클  ㅡ저 송효정이라는 영화 평론가 처럼 대충 꼬리표 식으로 달고서 5점을 매기는 일은 ...     10\n",
      "1  브로큰 서클  몸에 새겨도 영원치 않고, 이름을 바꾸어도 변화되지 않을 때, 현실주의자는 현재를 ...     10\n",
      "2  브로큰 서클  원스이후 최고의 음악드라마를 만났다. 10점을 주어도 아깝지 않다. 이새벽에 일어나...      9\n",
      "3  브로큰 서클                                    가슴이 아팠지만 아름다웠다.      9\n",
      "4  브로큰 서클                        간만에 볼만한 영화라 반가운 마음이 먼저 드네요.     10\n"
     ]
    }
   ],
   "source": [
    "del data['Unnamed: 0'] # 불필요 인덱스 값 삭제\n",
    "del data['0']          # 영화 코드값 불필요 삭제\n",
    "data.columns = ['movie', 'contents', 'score']\n",
    "\n",
    "print(data.head())"
   ]
  },
  {
   "cell_type": "code",
   "execution_count": 4,
   "metadata": {},
   "outputs": [],
   "source": [
    "data.to_csv('final_data.csv', index=False)"
   ]
  },
  {
   "cell_type": "code",
   "execution_count": null,
   "metadata": {},
   "outputs": [],
   "source": []
  }
 ],
 "metadata": {
  "kernelspec": {
   "display_name": "Python 3",
   "language": "python",
   "name": "python3"
  },
  "language_info": {
   "codemirror_mode": {
    "name": "ipython",
    "version": 3
   },
   "file_extension": ".py",
   "mimetype": "text/x-python",
   "name": "python",
   "nbconvert_exporter": "python",
   "pygments_lexer": "ipython3",
   "version": "3.7.3"
  }
 },
 "nbformat": 4,
 "nbformat_minor": 2
}
